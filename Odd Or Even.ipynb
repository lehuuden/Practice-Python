{
 "cells": [
  {
   "cell_type": "code",
   "execution_count": null,
   "metadata": {},
   "outputs": [],
   "source": [
    "number=int(input('Input Number: '))\n",
    "num=int(input('Input Dividend: '))\n",
    "check=int(input('Input Divisor: '))\n",
    "if number%2==0:\n",
    "    if number%4==0:\n",
    "        print(number,'is even and multiple of 4')\n",
    "    else:\n",
    "        print(number,'is even number')\n",
    "else:\n",
    "    print(number,'number is odd number')\n",
    "if num%check==0:\n",
    "    print(check,'divides evenly into',num)\n",
    "else:\n",
    "    print(check,'not divides evenly into',num)"
   ]
  },
  {
   "cell_type": "code",
   "execution_count": null,
   "metadata": {
    "collapsed": true
   },
   "outputs": [],
   "source": []
  }
 ],
 "metadata": {
  "kernelspec": {
   "display_name": "Python 3",
   "language": "python",
   "name": "python3"
  },
  "language_info": {
   "codemirror_mode": {
    "name": "ipython",
    "version": 3
   },
   "file_extension": ".py",
   "mimetype": "text/x-python",
   "name": "python",
   "nbconvert_exporter": "python",
   "pygments_lexer": "ipython3",
   "version": "3.6.1"
  }
 },
 "nbformat": 4,
 "nbformat_minor": 2
}
