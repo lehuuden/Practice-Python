{
 "cells": [
  {
   "cell_type": "code",
   "execution_count": null,
   "metadata": {},
   "outputs": [],
   "source": [
    "h=open('happynumbers.txt')\n",
    "p=open('primenumbers.txt')\n",
    "list1=[]\n",
    "list2=[]\n",
    "for i in h:\n",
    "    x=i.strip()\n",
    "    list1.append(int(x))\n",
    "for i in p:\n",
    "    y=i.strip()\n",
    "    list2.append(int(y))\n",
    "list_overlap=[i for i in list1 if i in list2]\n",
    "print(list_overlap)   "
   ]
  }
 ],
 "metadata": {
  "kernelspec": {
   "display_name": "Python 3",
   "language": "python",
   "name": "python3"
  },
  "language_info": {
   "codemirror_mode": {
    "name": "ipython",
    "version": 3
   },
   "file_extension": ".py",
   "mimetype": "text/x-python",
   "name": "python",
   "nbconvert_exporter": "python",
   "pygments_lexer": "ipython3",
   "version": "3.6.1"
  }
 },
 "nbformat": 4,
 "nbformat_minor": 2
}
