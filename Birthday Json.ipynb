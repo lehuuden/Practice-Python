{
 "cells": [
  {
   "cell_type": "code",
   "execution_count": null,
   "metadata": {
    "collapsed": true
   },
   "outputs": [],
   "source": [
    "birthday_dictionary={'My Dad':'10/10/1968','My Mom':'08/18/1968','My Sister':'05/22/2001'}\n",
    "print('Welcome to the birthday dictionary. I know the birthdays of:')\n",
    "for i in birthday_dictionary:\n",
    "    print(i)\n",
    "name=input('Who`s birthday do you want to look up?')\n",
    "print(name+'`s birthday is',birthday_dictionary[name])"
   ]
  },
  {
   "cell_type": "code",
   "execution_count": null,
   "metadata": {},
   "outputs": [],
   "source": [
    "import json\n",
    "\n",
    "with open(\"info.json\", \"r\") as f:\n",
    "    info = json.load(f)\n",
    "name=input('Who`s birthday do you want to look up?')\n",
    "print(name+'`s birthday is',info[name])\n"
   ]
  },
  {
   "cell_type": "code",
   "execution_count": null,
   "metadata": {
    "collapsed": true
   },
   "outputs": [],
   "source": [
    "import json\n",
    "myfamily={'My Dad':'10/10/1968','My Mom':'08/18/1968','My Sister':'05/22/2001'}\n",
    "with open('info.json','w') as f:\n",
    "    json.dump(myfamily,f)"
   ]
  },
  {
   "cell_type": "code",
   "execution_count": null,
   "metadata": {},
   "outputs": [],
   "source": [
    "import json\n",
    "n=0\n",
    "while n<20:\n",
    "    name=input('input name: ')\n",
    "    birthay=input('input bithay: ')\n",
    "    with open('info.json', 'r') as f:\n",
    "        json_data = json.load(f)\n",
    "        json_data[name] = birthay\n",
    "    with open('info.json', 'w') as f:\n",
    "        f.write(json.dumps(json_data))\n",
    "    n=n+1"
   ]
  },
  {
   "cell_type": "code",
   "execution_count": 48,
   "metadata": {},
   "outputs": [
    {
     "name": "stdout",
     "output_type": "stream",
     "text": [
      "{'Feb': 4, 'Mar': 2, 'Jan': 3, 'Apr': 1, 'Nov': 1, 'Jul': 1, 'Oct': 1, 'Sep': 2, 'May': 2, 'Dec': 1, 'Aug': 1}\n",
      "dict_values([4, 2, 3, 1, 1, 1, 1, 2, 2, 1, 1])\n"
     ]
    }
   ],
   "source": [
    "import json\n",
    "with open(\"info.json\", \"r\") as f:\n",
    "    info = json.load(f)\n",
    "moth=dict()\n",
    "moth1={'01':'Jan','02':'Feb','03':'Mar','04':'Apr','05':'May','06':'Jun','07':'Jul','08':'Aug','09':'Sep','10':'Oct','11':'Nov','12':'Dec'}\n",
    "for i in(info.values()):\n",
    "    moth[i[:2]]=moth.get(i[:2],0)+1\n",
    "\n",
    "for i in moth.keys():\n",
    "    for x,y in moth1.items():\n",
    "        if x==i:\n",
    "            moth[y]=moth.pop(i)\n",
    "        else: continue\n",
    "print(moth)\n",
    "print(moth.values())"
   ]
  },
  {
   "cell_type": "code",
   "execution_count": 46,
   "metadata": {},
   "outputs": [
    {
     "name": "stdout",
     "output_type": "stream",
     "text": [
      "[('April', 1), ('November', 1), ('July', 1), ('October', 1), ('December', 1), ('August', 1), ('March', 2), ('September', 2), ('May', 2), ('January', 3), ('February', 4)]\n"
     ]
    }
   ],
   "source": [
    "import operator\n",
    "sorted_x = sorted(moth.items(), key=operator.itemgetter(1))\n",
    "print(sorted_x)"
   ]
  },
  {
   "cell_type": "code",
   "execution_count": 43,
   "metadata": {},
   "outputs": [
    {
     "name": "stdout",
     "output_type": "stream",
     "text": [
      "February     4\n",
      "March        2\n",
      "January      3\n",
      "April        1\n",
      "November     1\n",
      "July         1\n",
      "October      1\n",
      "September    2\n",
      "May          2\n",
      "December     1\n",
      "August       1\n",
      "dtype: int64\n"
     ]
    }
   ],
   "source": [
    "import pandas as pd\n",
    "ser = pd.Series([v for v in moth.values()],[k for k in moth.keys()])\n",
    "print(ser)"
   ]
  },
  {
   "cell_type": "code",
   "execution_count": 51,
   "metadata": {},
   "outputs": [],
   "source": [
    "from bokeh.plotting import figure, show, output_file\n",
    "output_file(\"plot.html\")\n",
    "x_categories = [i for i in moth1.values()]\n",
    "x=[i for i in moth.keys()]\n",
    "y=[i for i in moth.values()]\n",
    "p = figure(x_range=x_categories)\n",
    "p.vbar(x=x, top=y, width=0.5)\n",
    "show(p)"
   ]
  },
  {
   "cell_type": "code",
   "execution_count": null,
   "metadata": {
    "collapsed": true
   },
   "outputs": [],
   "source": []
  }
 ],
 "metadata": {
  "kernelspec": {
   "display_name": "Python 3",
   "language": "python",
   "name": "python3"
  },
  "language_info": {
   "codemirror_mode": {
    "name": "ipython",
    "version": 3
   },
   "file_extension": ".py",
   "mimetype": "text/x-python",
   "name": "python",
   "nbconvert_exporter": "python",
   "pygments_lexer": "ipython3",
   "version": "3.6.1"
  }
 },
 "nbformat": 4,
 "nbformat_minor": 2
}
