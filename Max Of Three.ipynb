{
 "cells": [
  {
   "cell_type": "code",
   "execution_count": null,
   "metadata": {},
   "outputs": [],
   "source": [
    "def max_of_three(var1,var2,var3):\n",
    "    x=var1\n",
    "    for i in [var1,var2,var3]:\n",
    "        if i>var1:\n",
    "            x=i\n",
    "    return print('the largest of the three is',x)\n",
    "var1=input('variable 1: ')\n",
    "var2=input('variable 2: ')\n",
    "var3=input('variable 3: ')\n",
    "max_of_three(var1,var2,var3)"
   ]
  }
 ],
 "metadata": {
  "kernelspec": {
   "display_name": "Python 3",
   "language": "python",
   "name": "python3"
  },
  "language_info": {
   "codemirror_mode": {
    "name": "ipython",
    "version": 3
   },
   "file_extension": ".py",
   "mimetype": "text/x-python",
   "name": "python",
   "nbconvert_exporter": "python",
   "pygments_lexer": "ipython3",
   "version": "3.6.1"
  }
 },
 "nbformat": 4,
 "nbformat_minor": 2
}
