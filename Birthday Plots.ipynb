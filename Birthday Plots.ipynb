{
 "cells": [
  {
   "cell_type": "code",
   "execution_count": 1,
   "metadata": {
    "collapsed": true
   },
   "outputs": [],
   "source": [
    "import json\n",
    "from bokeh.plotting import figure, show, output_file\n",
    "with open(\"info.json\", \"r\") as f:\n",
    "    info = json.load(f)\n",
    "moth=dict()\n",
    "moth1={'01':'Jan','02':'Feb','03':'Mar','04':'Apr','05':'May','06':'Jun','07':'Jul','08':'Aug','09':'Sep','10':'Oct','11':'Nov','12':'Dec'}\n",
    "for i in(info.values()):\n",
    "    moth[i[:2]]=moth.get(i[:2],0)+1\n",
    "\n",
    "for i in moth.keys():\n",
    "    for x,y in moth1.items():\n",
    "        if x==i:\n",
    "            moth[y]=moth.pop(i)\n",
    "        else: continue\n",
    "output_file(\"plot.html\")\n",
    "x_categories = [i for i in moth1.values()]\n",
    "x=[i for i in moth.keys()]\n",
    "y=[i for i in moth.values()]\n",
    "p = figure(x_range=x_categories)\n",
    "p.vbar(x=x, top=y, width=0.5)\n",
    "show(p)"
   ]
  },
  {
   "cell_type": "code",
   "execution_count": null,
   "metadata": {
    "collapsed": true
   },
   "outputs": [],
   "source": []
  }
 ],
 "metadata": {
  "kernelspec": {
   "display_name": "Python 3",
   "language": "python",
   "name": "python3"
  },
  "language_info": {
   "codemirror_mode": {
    "name": "ipython",
    "version": 3
   },
   "file_extension": ".py",
   "mimetype": "text/x-python",
   "name": "python",
   "nbconvert_exporter": "python",
   "pygments_lexer": "ipython3",
   "version": "3.6.1"
  }
 },
 "nbformat": 4,
 "nbformat_minor": 2
}
