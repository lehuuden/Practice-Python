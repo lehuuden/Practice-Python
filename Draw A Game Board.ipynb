{
 "cells": [
  {
   "cell_type": "code",
   "execution_count": 3,
   "metadata": {},
   "outputs": [
    {
     "name": "stdout",
     "output_type": "stream",
     "text": [
      "Enter Row: 4\n",
      "Enter Column: 3\n",
      " --- --- ---\n",
      "|   |   |   |\n",
      " --- --- ---\n",
      "|   |   |   |\n",
      " --- --- ---\n",
      "|   |   |   |\n",
      " --- --- ---\n",
      "|   |   |   |\n",
      " --- --- ---\n"
     ]
    }
   ],
   "source": [
    "row=int(input('Enter Row: '))\n",
    "column=int(input('Enter Column: '))\n",
    "n=0\n",
    "while True:\n",
    "    a=''\n",
    "    for i in range(column):\n",
    "        a=a+' ---'\n",
    "    print(a)\n",
    "    n=n+1\n",
    "    if n==row+1:\n",
    "        break\n",
    "    b=''\n",
    "    for i in range(column):\n",
    "        b=b+'|   '\n",
    "    print(b+'|')\n",
    "    "
   ]
  },
  {
   "cell_type": "code",
   "execution_count": null,
   "metadata": {
    "collapsed": true
   },
   "outputs": [],
   "source": [
    "def Draw_Board(row,column):\n",
    "    n=0\n",
    "    while True:\n",
    "        a=''\n",
    "        for i in range(column):\n",
    "            a=a+' ---'\n",
    "        print(a)\n",
    "        n=n+1\n",
    "        if n==row+1:\n",
    "            break\n",
    "        b=''\n",
    "        for i in range(column+1):\n",
    "            b=b+'|   '\n",
    "        print(b+'|')\n",
    "if __name__ == \"__main__\":\n",
    "    row=int(input('Enter Row: '))\n",
    "    column=int(input('Enter Column: '))\n",
    "    Draw_Board(row,column)    "
   ]
  },
  {
   "cell_type": "code",
   "execution_count": null,
   "metadata": {
    "collapsed": true
   },
   "outputs": [],
   "source": []
  }
 ],
 "metadata": {
  "kernelspec": {
   "display_name": "Python 3",
   "language": "python",
   "name": "python3"
  },
  "language_info": {
   "codemirror_mode": {
    "name": "ipython",
    "version": 3
   },
   "file_extension": ".py",
   "mimetype": "text/x-python",
   "name": "python",
   "nbconvert_exporter": "python",
   "pygments_lexer": "ipython3",
   "version": "3.6.1"
  }
 },
 "nbformat": 4,
 "nbformat_minor": 2
}
