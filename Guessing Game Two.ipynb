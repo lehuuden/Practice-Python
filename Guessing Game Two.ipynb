{
 "cells": [
  {
   "cell_type": "code",
   "execution_count": 17,
   "metadata": {},
   "outputs": [
    {
     "name": "stdout",
     "output_type": "stream",
     "text": [
      "your number is 50\n",
      "You will say whether (too high, too low, or ok): too low\n",
      "your number is 75\n",
      "You will say whether (too high, too low, or ok): too high\n",
      "your number is 62\n",
      "You will say whether (too high, too low, or ok): ok\n",
      "List of numbers that the program guessed: [50, 75, 62]\n"
     ]
    }
   ],
   "source": [
    "# The program will guess your head's a number between 0 and 100\n",
    "list_number=list(range(101))\n",
    "list_guess_number=[]\n",
    "start=0\n",
    "end=101\n",
    "middle=(start+end)//2\n",
    "while True:\n",
    "    print('your number is',list_number[middle])\n",
    "    list_guess_number.append(list_number[middle])\n",
    "    user=input('You will say whether (too high, too low, or ok): ')\n",
    "    if user=='too high':\n",
    "        end=middle\n",
    "        middle=(start+end)//2\n",
    "    elif user=='too low':\n",
    "        start=middle\n",
    "        middle=(start+end)//2\n",
    "    else:\n",
    "        break\n",
    "print('List of numbers that the program guessed:',list_guess_number)"
   ]
  }
 ],
 "metadata": {
  "kernelspec": {
   "display_name": "Python 3",
   "language": "python",
   "name": "python3"
  },
  "language_info": {
   "codemirror_mode": {
    "name": "ipython",
    "version": 3
   },
   "file_extension": ".py",
   "mimetype": "text/x-python",
   "name": "python",
   "nbconvert_exporter": "python",
   "pygments_lexer": "ipython3",
   "version": "3.6.1"
  }
 },
 "nbformat": 4,
 "nbformat_minor": 2
}
