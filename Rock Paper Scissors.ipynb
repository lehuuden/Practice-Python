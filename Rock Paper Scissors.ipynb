{
 "cells": [
  {
   "cell_type": "code",
   "execution_count": null,
   "metadata": {
    "scrolled": true
   },
   "outputs": [],
   "source": [
    "while True:    \n",
    "    user1=input('Enter rock,paper or scissors: ')\n",
    "    user2=input('Enter rock,paper or scissors: ')\n",
    "    a=['rock','paper']\n",
    "    b=['rock','scissors']        \n",
    "    c=['paper','rock']\n",
    "    d=['paper','scissors']\n",
    "    e=['scissors','rock']\n",
    "    f=['scissors','paper']\n",
    "    g=[user1,user2]\n",
    "    if g[0]=='quit'or g[1]=='quit':\n",
    "        break\n",
    "    else:\n",
    "        if g==a:\n",
    "            print('user2 win')\n",
    "            ask=input('Do you want to start a new game, type yes/no: ')\n",
    "            if ask=='yes':\n",
    "                continue\n",
    "            else:break\n",
    "        elif g==b:\n",
    "            print('user1 win')\n",
    "            ask=input('Do you want to start a new game, type yes/no: ')\n",
    "            if ask=='yes':\n",
    "                continue\n",
    "            else:break\n",
    "        elif g==c:\n",
    "            print('user1 win')\n",
    "            ask=input('Do you want to start a new game, type yes/no: ')\n",
    "            if ask=='yes':\n",
    "                continue\n",
    "            else:break\n",
    "        elif g==d:\n",
    "            print('user2 win')\n",
    "            ask=input('Do you want to start a new game, type yes/no: ')\n",
    "            if ask=='yes':\n",
    "                continue\n",
    "            else:break\n",
    "        elif g==e:\n",
    "            print('user2 win')\n",
    "            ask=input('Do you want to start a new game, type yes/no: ')\n",
    "            if ask=='yes':\n",
    "                continue\n",
    "            else:break\n",
    "        elif g==f:\n",
    "            print('user1 win')\n",
    "            ask=input('Do you want to start a new game, type yes/no: ')\n",
    "            if ask=='yes':\n",
    "                continue\n",
    "            else:break\n",
    "        elif g[0]==g[1]:\n",
    "            print('user1 and user2 draw')\n",
    "            ask=input('Do you want to start a new game, type yes/no: ')\n",
    "            if ask=='yes':\n",
    "                continue\n",
    "            else:break\n",
    "        else:\n",
    "            print('please type again')\n",
    "            continue"
   ]
  },
  {
   "cell_type": "code",
   "execution_count": null,
   "metadata": {
    "collapsed": true
   },
   "outputs": [],
   "source": []
  }
 ],
 "metadata": {
  "kernelspec": {
   "display_name": "Python 3",
   "language": "python",
   "name": "python3"
  },
  "language_info": {
   "codemirror_mode": {
    "name": "ipython",
    "version": 3
   },
   "file_extension": ".py",
   "mimetype": "text/x-python",
   "name": "python",
   "nbconvert_exporter": "python",
   "pygments_lexer": "ipython3",
   "version": "3.6.1"
  }
 },
 "nbformat": 4,
 "nbformat_minor": 2
}
