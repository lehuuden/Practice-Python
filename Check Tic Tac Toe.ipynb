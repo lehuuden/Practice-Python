{
 "cells": [
  {
   "cell_type": "code",
   "execution_count": 31,
   "metadata": {},
   "outputs": [
    {
     "name": "stdout",
     "output_type": "stream",
     "text": [
      "[[2, 0, 2], [2, 2, 2], [0, 0, 0]]\n",
      "[[2, 0, 2], [2, 2, 2], [0, 0, 0], [2, 2, 0], [0, 2, 0], [2, 2, 0], [2, 2, 0], [2, 2, 0]]\n",
      "[2, 0, 2, 2, 2, 2, 0, 0, 0]\n",
      "User2 Win\n"
     ]
    }
   ],
   "source": [
    "import random\n",
    "x=[[random.randint(0,2) for i in range(3)] for i in range(3)]\n",
    "print(x)\n",
    "\n",
    "x0=x[0]\n",
    "x1=x[1]\n",
    "x2=x[2]\n",
    "x00=[x[0][0],x[1][0],x[2][0]]\n",
    "x11=[x[0][1],x[1][1],x[2][1]]\n",
    "x22=[x[0][2],x[1][2],x[2][2]]\n",
    "x33=[x[0][0],x[1][1],x[2][2]]\n",
    "x44=[x[0][2],x[1][1],x[2][0]]\n",
    "\n",
    "y=[x0,x1,x2,x00,x11,x22,x33,x44]\n",
    "print(y)\n",
    "\n",
    "z=x[0]+x[1]+x[2]\n",
    "print(z)\n",
    "\n",
    "for i in y:\n",
    "    if set(i)=={1}:\n",
    "        print('User1 Win')\n",
    "    elif set(i)=={2}:\n",
    "        print('User2 Win')\n",
    "if set(z)=={1,2}:\n",
    "    print('Game Over')        "
   ]
  }
 ],
 "metadata": {
  "kernelspec": {
   "display_name": "Python 3",
   "language": "python",
   "name": "python3"
  },
  "language_info": {
   "codemirror_mode": {
    "name": "ipython",
    "version": 3
   },
   "file_extension": ".py",
   "mimetype": "text/x-python",
   "name": "python",
   "nbconvert_exporter": "python",
   "pygments_lexer": "ipython3",
   "version": "3.6.1"
  }
 },
 "nbformat": 4,
 "nbformat_minor": 2
}
