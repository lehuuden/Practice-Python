{
 "cells": [
  {
   "cell_type": "code",
   "execution_count": null,
   "metadata": {},
   "outputs": [],
   "source": [
    "import random\n",
    "guess_number=None\n",
    "guesses_number=[]\n",
    "while guess_number!='exit':\n",
    "    number=random.randint(1,9)\n",
    "    nb=str(number)\n",
    "    guess_number=input('Your guess number from 1 to 9: ')\n",
    "    if guess_number=='exit':\n",
    "        print('Guesses you have taken: ',guesses_number)\n",
    "    elif nb==guess_number:\n",
    "        print('exactly right')\n",
    "    elif nb<guess_number:\n",
    "        print('too high')\n",
    "    else:\n",
    "        print('too low')\n",
    "    guesses_number.append(guess_number)"
   ]
  },
  {
   "cell_type": "code",
   "execution_count": null,
   "metadata": {
    "collapsed": true
   },
   "outputs": [],
   "source": []
  }
 ],
 "metadata": {
  "kernelspec": {
   "display_name": "Python 3",
   "language": "python",
   "name": "python3"
  },
  "language_info": {
   "codemirror_mode": {
    "name": "ipython",
    "version": 3
   },
   "file_extension": ".py",
   "mimetype": "text/x-python",
   "name": "python",
   "nbconvert_exporter": "python",
   "pygments_lexer": "ipython3",
   "version": "3.6.1"
  }
 },
 "nbformat": 4,
 "nbformat_minor": 2
}
