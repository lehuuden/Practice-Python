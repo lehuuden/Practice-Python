{
 "cells": [
  {
   "cell_type": "code",
   "execution_count": null,
   "metadata": {},
   "outputs": [],
   "source": [
    "'''Write a function that takes an ordered list of numbers \n",
    "(a list where the elements are in order from smallest to largest)\n",
    "and another number. The function decides whether or not the given number is \n",
    "inside the list and returns (then prints)an appropriate boolean.\n",
    "'''\n",
    "import random\n",
    "\n",
    "def list_number(a,b):\n",
    "    return sorted(random.sample(range(a),b))\n",
    "def random_number(c,d):\n",
    "    return random.randint(c,d)\n",
    "\n",
    "if __name__ == \"__main__\":\n",
    "    lst=list_number(100,50)\n",
    "    print(lst)\n",
    "    number=random_number(0,100)\n",
    "    print(number)\n",
    "    start=0\n",
    "    end=50\n",
    "    middle=(end+start)//2\n",
    "    m=end-start\n",
    "    n=False\n",
    "    while m>1:\n",
    "        if number<lst[middle]:\n",
    "            end=middle\n",
    "            middle=(end+start)//2\n",
    "            m=(end - start)\n",
    "        elif number>lst[middle]:\n",
    "            start=middle\n",
    "            middle=(end+start)//2\n",
    "            m=(end - start)\n",
    "        else:\n",
    "            n=True\n",
    "            break\n",
    "    print('Number in List: ',n)\n",
    "             "
   ]
  }
 ],
 "metadata": {
  "kernelspec": {
   "display_name": "Python 3",
   "language": "python",
   "name": "python3"
  },
  "language_info": {
   "codemirror_mode": {
    "name": "ipython",
    "version": 3
   },
   "file_extension": ".py",
   "mimetype": "text/x-python",
   "name": "python",
   "nbconvert_exporter": "python",
   "pygments_lexer": "ipython3",
   "version": "3.6.1"
  }
 },
 "nbformat": 4,
 "nbformat_minor": 2
}
