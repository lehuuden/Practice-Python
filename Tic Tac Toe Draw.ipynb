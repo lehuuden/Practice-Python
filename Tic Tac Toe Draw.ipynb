{
 "cells": [
  {
   "cell_type": "code",
   "execution_count": null,
   "metadata": {},
   "outputs": [],
   "source": [
    "import random\n",
    "x=[[random.randint(0,0) for i in range(3)] for i in range(3)]\n",
    "y=x[0]+x[1]+x[2]\n",
    "print(x)\n",
    "while 0 in y:\n",
    "    while 0 in y:\n",
    "        user1=input('Input your coordinate: ')\n",
    "        user1=user1.split(',')\n",
    "        a1=int(user1[0])-1\n",
    "        a2=int(user1[1])-1\n",
    "        if x[a1][a2]==0:\n",
    "            x[a1][a2]='X'\n",
    "            y=x[0]+x[1]+x[2]\n",
    "            print(x)\n",
    "            break\n",
    "        else:\n",
    "            print('This position is placed, please again')\n",
    "            continue\n",
    "    while 0 in y:    \n",
    "        user2=input('Input your coordinate: ')\n",
    "        user2=user2.split(',')\n",
    "        b1=int(user2[0])-1\n",
    "        b2=int(user2[1])-1\n",
    "        if x[b1][b2]==0:\n",
    "            x[b1][b2]='O'\n",
    "            y=x[0]+x[1]+x[2]\n",
    "            print(x)\n",
    "            break\n",
    "        else:\n",
    "            print('This position is placed, please again')\n",
    "            continue\n",
    "        \n",
    "print('Game over')"
   ]
  },
  {
   "cell_type": "code",
   "execution_count": null,
   "metadata": {
    "collapsed": true
   },
   "outputs": [],
   "source": []
  }
 ],
 "metadata": {
  "kernelspec": {
   "display_name": "Python 3",
   "language": "python",
   "name": "python3"
  },
  "language_info": {
   "codemirror_mode": {
    "name": "ipython",
    "version": 3
   },
   "file_extension": ".py",
   "mimetype": "text/x-python",
   "name": "python",
   "nbconvert_exporter": "python",
   "pygments_lexer": "ipython3",
   "version": "3.6.1"
  }
 },
 "nbformat": 4,
 "nbformat_minor": 2
}
