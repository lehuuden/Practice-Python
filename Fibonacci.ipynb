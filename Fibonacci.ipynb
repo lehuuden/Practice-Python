{
 "cells": [
  {
   "cell_type": "code",
   "execution_count": null,
   "metadata": {},
   "outputs": [],
   "source": [
    "def  Fibonnaci(number):\n",
    "    n=1\n",
    "    Fi=[0,1]\n",
    "    while n<number-1:\n",
    "        n=n+1\n",
    "        Fi.append(Fi[n-1]+Fi[n-2])\n",
    "    return(Fi)\n",
    "while True:\n",
    "    number=int(input('Enter number: '))\n",
    "    print(Fibonnaci(number))"
   ]
  }
 ],
 "metadata": {
  "kernelspec": {
   "display_name": "Python 3",
   "language": "python",
   "name": "python3"
  },
  "language_info": {
   "codemirror_mode": {
    "name": "ipython",
    "version": 3
   },
   "file_extension": ".py",
   "mimetype": "text/x-python",
   "name": "python",
   "nbconvert_exporter": "python",
   "pygments_lexer": "ipython3",
   "version": "3.6.1"
  }
 },
 "nbformat": 4,
 "nbformat_minor": 2
}
