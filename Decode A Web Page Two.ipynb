{
 "cells": [
  {
   "cell_type": "code",
   "execution_count": null,
   "metadata": {},
   "outputs": [],
   "source": [
    "'''\n",
    "Using the requests and BeautifulSoup Python libraries, \n",
    "print to the screen the full text of the article on this website: \n",
    "http://www.vanityfair.com/society/2014/06/monica-lewinsky-humiliation-culture.\n",
    "'''\n",
    "import requests\n",
    "from bs4 import BeautifulSoup\n",
    " \n",
    "def print_text(base_url):\n",
    "    r = requests.get(base_url)\n",
    "    soup = BeautifulSoup(r.text)\n",
    "    with open('huuden1.txt', 'w', encoding = 'utf-8') as f:\n",
    "        c=soup.select('span')\n",
    "        f.write(c[14].text)\n",
    "        for d in soup.select('.content-section > p'):\n",
    "            f.write(d.text)\n",
    "            \n",
    "if __name__ == \"__main__\":\n",
    "    base_url = 'https://www.vanityfair.com/style/society/2014/06/monica-lewinsky-humiliation-culture'\n",
    "    print_text(base_url)"
   ]
  }
 ],
 "metadata": {
  "kernelspec": {
   "display_name": "Python 3",
   "language": "python",
   "name": "python3"
  },
  "language_info": {
   "codemirror_mode": {
    "name": "ipython",
    "version": 3
   },
   "file_extension": ".py",
   "mimetype": "text/x-python",
   "name": "python",
   "nbconvert_exporter": "python",
   "pygments_lexer": "ipython3",
   "version": "3.6.1"
  }
 },
 "nbformat": 4,
 "nbformat_minor": 2
}
