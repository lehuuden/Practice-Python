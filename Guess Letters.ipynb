{
 "cells": [
  {
   "cell_type": "code",
   "execution_count": 2,
   "metadata": {},
   "outputs": [
    {
     "name": "stdout",
     "output_type": "stream",
     "text": [
      "Welcome to Hangman!\n",
      "--------\n",
      "Guess your letter: L\n",
      "L-------\n",
      "Guess your letter: H\n",
      "L-H-----\n",
      "Guess your letter: E\n",
      "LEH---E-\n",
      "Guess your letter: U\n",
      "LEHUU-E-\n",
      "Guess your letter: D\n",
      "LEHUUDE-\n",
      "Guess your letter: N\n",
      "LEHUUDEN\n"
     ]
    }
   ],
   "source": [
    "word='LEHUUDEN'\n",
    "m=['-' for i in range(len(word))]\n",
    "n=''.join(m)\n",
    "print('Welcome to Hangman!\\n'+n)\n",
    "while '-' in m:\n",
    "    letter=input('Guess your letter: ')\n",
    "    if letter in word:\n",
    "        for i in range(len(word)):\n",
    "            if word[i]==letter:\n",
    "                m[i]=letter\n",
    "            else:continue\n",
    "        print(''.join(m))\n",
    "    else:\n",
    "        print('Incorrect!')       "
   ]
  },
  {
   "cell_type": "code",
   "execution_count": null,
   "metadata": {
    "collapsed": true
   },
   "outputs": [],
   "source": []
  }
 ],
 "metadata": {
  "kernelspec": {
   "display_name": "Python 3",
   "language": "python",
   "name": "python3"
  },
  "language_info": {
   "codemirror_mode": {
    "name": "ipython",
    "version": 3
   },
   "file_extension": ".py",
   "mimetype": "text/x-python",
   "name": "python",
   "nbconvert_exporter": "python",
   "pygments_lexer": "ipython3",
   "version": "3.6.1"
  }
 },
 "nbformat": 4,
 "nbformat_minor": 2
}
