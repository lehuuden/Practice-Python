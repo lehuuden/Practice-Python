{
 "cells": [
  {
   "cell_type": "code",
   "execution_count": null,
   "metadata": {},
   "outputs": [],
   "source": [
    "import random\n",
    "ra_number=random.sample(range(10),4)\n",
    "number=''.join(map(str,ra_number))\n",
    "while True:\n",
    "    a=0\n",
    "    b=0\n",
    "    enter_number=input('Input: ')\n",
    "    for i in enter_number:\n",
    "        if i in number:\n",
    "            if enter_number.index(i)==number.index(i):\n",
    "                a=a+1\n",
    "            else:\n",
    "                b=b+1\n",
    "    print('cows:',a,'bulls:',b)\n",
    "    if a==4:\n",
    "        break\n",
    "print('you win!')"
   ]
  }
 ],
 "metadata": {
  "kernelspec": {
   "display_name": "Python 3",
   "language": "python",
   "name": "python3"
  },
  "language_info": {
   "codemirror_mode": {
    "name": "ipython",
    "version": 3
   },
   "file_extension": ".py",
   "mimetype": "text/x-python",
   "name": "python",
   "nbconvert_exporter": "python",
   "pygments_lexer": "ipython3",
   "version": "3.6.1"
  }
 },
 "nbformat": 4,
 "nbformat_minor": 2
}
