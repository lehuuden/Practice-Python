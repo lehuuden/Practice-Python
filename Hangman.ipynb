{
 "cells": [
  {
   "cell_type": "code",
   "execution_count": null,
   "metadata": {},
   "outputs": [],
   "source": [
    "import random\n",
    "def board(word,m):\n",
    "    h=0\n",
    "    while True:\n",
    "        a=''\n",
    "        for i in range(len(word)):\n",
    "            a=a+' ---'\n",
    "        h=h+1\n",
    "        print(a)\n",
    "        if h==2: break\n",
    "        b=''\n",
    "        w=''\n",
    "        for i in ''.join(m):\n",
    "            if i=='-':\n",
    "                w=' '\n",
    "            else:\n",
    "                w=i\n",
    "            b=b+'| '+w+' '\n",
    "        print(b+'|')\n",
    "while True:\n",
    "    with open('sowpods.txt') as f:\n",
    "        words = list(f)\n",
    "        word=random.choice(words).strip()\n",
    "    m=['-' for i in range(len(word))]\n",
    "    x=0\n",
    "    y=[]\n",
    "    n=''.join(m)\n",
    "    print('Welcome to Hangman!\\n'+n)\n",
    "    while '-' in m:\n",
    "        letter=input('Guess your letter: ')\n",
    "        if letter in word:\n",
    "            for i in range(len(word)):\n",
    "                if word[i]==letter:\n",
    "                    m[i]=letter\n",
    "                else:continue\n",
    "            board(word,m)\n",
    "        else:\n",
    "            y.append(letter)\n",
    "            x=x+1\n",
    "            print('Incorrect!')\n",
    "            print('You have',6-x,'incorrect guesses left')\n",
    "            board(word,m)\n",
    "        if x==6:\n",
    "            print('You lose')\n",
    "            break\n",
    "        print('Letters you incorrect guessed:',y)\n",
    "        if ''.join(m)==word:\n",
    "            print('You win')\n",
    "            break\n",
    "    answer=input('Do you want to start a new game(Yes/No): ')\n",
    "    if answer=='No':\n",
    "        break"
   ]
  }
 ],
 "metadata": {
  "kernelspec": {
   "display_name": "Python 3",
   "language": "python",
   "name": "python3"
  },
  "language_info": {
   "codemirror_mode": {
    "name": "ipython",
    "version": 3
   },
   "file_extension": ".py",
   "mimetype": "text/x-python",
   "name": "python",
   "nbconvert_exporter": "python",
   "pygments_lexer": "ipython3",
   "version": "3.6.1"
  }
 },
 "nbformat": 4,
 "nbformat_minor": 2
}
